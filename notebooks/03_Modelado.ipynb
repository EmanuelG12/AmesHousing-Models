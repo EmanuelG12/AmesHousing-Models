{
 "cells": [
  {
   "cell_type": "markdown",
   "id": "0109666d",
   "metadata": {},
   "source": [
    "# <center> MODELADO"
   ]
  },
  {
   "cell_type": "code",
   "execution_count": 1,
   "id": "2b8eee07",
   "metadata": {},
   "outputs": [],
   "source": [
    "import joblib\n",
    "from sklearn.pipeline import Pipeline\n",
    "from sklearn.linear_model import LinearRegression\n",
    "import pandas as pd\n",
    "from sklearn.tree import DecisionTreeRegressor\n",
    "from sklearn.neighbors import KNeighborsRegressor\n",
    "from sklearn.ensemble import RandomForestRegressor\n",
    "from sklearn.model_selection import GridSearchCV\n",
    "from sklearn.preprocessing import StandardScaler\n",
    "\n",
    "# Cargar datasets procesados\n",
    "train = pd.read_csv('../data/processed/train.csv')\n",
    "test = pd.read_csv('../data/processed/test.csv')\n",
    "\n",
    "# Separar X e y\n",
    "X_train = train.drop(columns='SalePrice')\n",
    "y_train = train['SalePrice']\n",
    "\n",
    "X_test = test.drop(columns='SalePrice')\n",
    "y_test = test['SalePrice']"
   ]
  },
  {
   "cell_type": "code",
   "execution_count": 2,
   "id": "a1aa71db",
   "metadata": {},
   "outputs": [
    {
     "name": "stdout",
     "output_type": "stream",
     "text": [
      "Mejor modelo: Pipeline(steps=[('scaler', StandardScaler()),\n",
      "                ('model',\n",
      "                 RandomForestRegressor(max_depth=10, min_samples_split=5,\n",
      "                                       n_estimators=200))])\n",
      "Mejores hiperparámetros: {'model': RandomForestRegressor(), 'model__max_depth': 10, 'model__min_samples_leaf': 1, 'model__min_samples_split': 5, 'model__n_estimators': 200}\n",
      "Mejor score (R²): 0.8119917008045009\n"
     ]
    }
   ],
   "source": [
    "# Cargar preprocesador entrenado\n",
    "preprocessor = joblib.load('../artifacts/preprocessor.pkl')\n",
    "\n",
    "# Modelos\n",
    "models = {\n",
    "    'lr': LinearRegression(),\n",
    "    'dt': DecisionTreeRegressor(),\n",
    "    'knr': KNeighborsRegressor(),\n",
    "    'rf': RandomForestRegressor()\n",
    "}\n",
    "\n",
    "# Param Grid con claves correctas (todas las claves deben empezar con 'model__')\n",
    "param_grid = [\n",
    "    {\n",
    "        'model': [models['lr']],\n",
    "        'model__fit_intercept': [True, False],\n",
    "    },\n",
    "    {\n",
    "        'model': [models['dt']],\n",
    "        'model__max_depth': [5, 10, None],\n",
    "        'model__min_samples_split': [2, 5, 10],\n",
    "        'model__min_samples_leaf': [1, 2, 4]\n",
    "    },\n",
    "    {\n",
    "        'model': [models['knr']],\n",
    "        'model__n_neighbors': [3, 5, 7],\n",
    "        'model__weights': ['uniform', 'distance'],\n",
    "        'model__p': [1, 2]\n",
    "    },\n",
    "    {\n",
    "        'model': [models['rf']],\n",
    "        'model__n_estimators': [50, 100, 200],\n",
    "        'model__max_depth': [None, 10, 20],\n",
    "        'model__min_samples_split': [2, 5],\n",
    "        'model__min_samples_leaf': [1, 2]\n",
    "    }\n",
    "]\n",
    "\n",
    "# Pipeline correcto\n",
    "pipeline = Pipeline([\n",
    "    ('scaler', StandardScaler()),\n",
    "    ('model', LinearRegression())  # Este se sobrescribe por GridSearchCV\n",
    "])\n",
    "\n",
    "# Grid Search con CV\n",
    "grid = GridSearchCV(\n",
    "    pipeline,\n",
    "    param_grid=param_grid,\n",
    "    cv=5,\n",
    "    scoring='r2',\n",
    "    n_jobs=-1\n",
    ")\n",
    "\n",
    "# Entrenamiento\n",
    "grid.fit(X_train, y_train)\n",
    "\n",
    "# Resultados\n",
    "print(\"Mejor modelo:\", grid.best_estimator_)\n",
    "print(\"Mejores hiperparámetros:\", grid.best_params_)\n",
    "print(\"Mejor score (R²):\", grid.best_score_)"
   ]
  },
  {
   "cell_type": "code",
   "execution_count": null,
   "id": "dcefa93a",
   "metadata": {},
   "outputs": [
    {
     "data": {
      "text/plain": [
       "['../artifacts/best_model.pkl']"
      ]
     },
     "execution_count": 3,
     "metadata": {},
     "output_type": "execute_result"
    }
   ],
   "source": [
    "# Guardamos el preprocesador ya entrenado\n",
    "joblib.dump(grid.best_estimator_, '../artifacts/best_model.pkl')"
   ]
  }
 ],
 "metadata": {
  "kernelspec": {
   "display_name": "venv",
   "language": "python",
   "name": "python3"
  },
  "language_info": {
   "codemirror_mode": {
    "name": "ipython",
    "version": 3
   },
   "file_extension": ".py",
   "mimetype": "text/x-python",
   "name": "python",
   "nbconvert_exporter": "python",
   "pygments_lexer": "ipython3",
   "version": "3.13.5"
  }
 },
 "nbformat": 4,
 "nbformat_minor": 5
}
